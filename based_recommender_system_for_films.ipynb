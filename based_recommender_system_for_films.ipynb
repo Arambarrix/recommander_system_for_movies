{
  "cells": [
    {
      "cell_type": "markdown",
      "metadata": {
        "id": "sT8AyHRMNh41"
      },
      "source": [
        "# Basic recommender\n"
      ]
    },
    {
      "cell_type": "markdown",
      "metadata": {
        "id": "8f-reQ11gbLB"
      },
      "source": [
        "In this tutorial, we build a simple matrix factorization model using the [MovieLens 100K dataset](https://grouplens.org/datasets/movielens/100k/) with TFRS. We can use this model to recommend movies for a given user."
      ]
    },
    {
      "cell_type": "markdown",
      "metadata": {
        "id": "qA00wBE2Ntdm"
      },
      "source": [
        "### Import TFRS\n",
        "\n",
        "First, install and import TFRS:"
      ]
    },
    {
      "cell_type": "code",
      "execution_count": 1,
      "metadata": {
        "id": "n3oYt3R6Nr9l"
      },
      "outputs": [
        {
          "name": "stderr",
          "output_type": "stream",
          "text": [
            "C:\\Users\\William\\AppData\\Local\\Temp\\ipykernel_16088\\1842447031.py:12: MatplotlibDeprecationWarning: The seaborn styles shipped by Matplotlib are deprecated since 3.6, as they no longer correspond to the styles shipped by seaborn. However, they will remain available as 'seaborn-v0_8-<style>'. Alternatively, directly use the seaborn API instead.\n",
            "  plt.style.use('seaborn-whitegrid')\n"
          ]
        }
      ],
      "source": [
        "from typing import Dict, Text\n",
        "import os\n",
        "import pprint\n",
        "import tempfile\n",
        "import pandas as pd\n",
        "import numpy as np\n",
        "import tensorflow as tf\n",
        "import tensorflow_recommenders as tfrs\n",
        "\n",
        "%matplotlib inline\n",
        "import matplotlib.pyplot as plt\n",
        "plt.style.use('seaborn-whitegrid')"
      ]
    },
    {
      "cell_type": "markdown",
      "metadata": {
        "id": "zCxQ1CZcO2wh"
      },
      "source": [
        "### Chargement des données"
      ]
    },
    {
      "cell_type": "code",
      "execution_count": 8,
      "metadata": {},
      "outputs": [],
      "source": [
        "# Chargement des données users\n",
        "users = pd.read_csv('data/output/users.csv', sep=',')"
      ]
    },
    {
      "cell_type": "code",
      "execution_count": 9,
      "metadata": {},
      "outputs": [],
      "source": [
        "# Chargement des données de films\n",
        "items = pd.read_csv('data/output/items.csv',sep=',',encoding='latin-1')"
      ]
    },
    {
      "cell_type": "code",
      "execution_count": 10,
      "metadata": {},
      "outputs": [],
      "source": [
        "# Chargement des notes\n",
        "ratings= pd.read_csv('data/output/ratings.csv',sep=',')"
      ]
    },
    {
      "cell_type": "markdown",
      "metadata": {},
      "source": [
        "### Exploration des données"
      ]
    },
    {
      "cell_type": "markdown",
      "metadata": {},
      "source": [
        "#### Analyse des données des utilisateurs"
      ]
    },
    {
      "cell_type": "code",
      "execution_count": 14,
      "metadata": {},
      "outputs": [
        {
          "name": "stdout",
          "output_type": "stream",
          "text": [
            "Nombre d'utilisateurs :  943\n"
          ]
        }
      ],
      "source": [
        "# Détermination du nombre d'utilisateurs\n",
        "print(\"Nombre d'utilisateurs : \",users.shape[0])"
      ]
    },
    {
      "cell_type": "code",
      "execution_count": 15,
      "metadata": {},
      "outputs": [
        {
          "data": {
            "text/html": [
              "<div>\n",
              "<style scoped>\n",
              "    .dataframe tbody tr th:only-of-type {\n",
              "        vertical-align: middle;\n",
              "    }\n",
              "\n",
              "    .dataframe tbody tr th {\n",
              "        vertical-align: top;\n",
              "    }\n",
              "\n",
              "    .dataframe thead th {\n",
              "        text-align: right;\n",
              "    }\n",
              "</style>\n",
              "<table border=\"1\" class=\"dataframe\">\n",
              "  <thead>\n",
              "    <tr style=\"text-align: right;\">\n",
              "      <th></th>\n",
              "      <th>user_id</th>\n",
              "      <th>age</th>\n",
              "      <th>sex</th>\n",
              "      <th>occupation</th>\n",
              "      <th>zipcode</th>\n",
              "    </tr>\n",
              "  </thead>\n",
              "  <tbody>\n",
              "    <tr>\n",
              "      <th>0</th>\n",
              "      <td>1</td>\n",
              "      <td>24</td>\n",
              "      <td>M</td>\n",
              "      <td>technician</td>\n",
              "      <td>85711</td>\n",
              "    </tr>\n",
              "    <tr>\n",
              "      <th>1</th>\n",
              "      <td>2</td>\n",
              "      <td>53</td>\n",
              "      <td>F</td>\n",
              "      <td>other</td>\n",
              "      <td>94043</td>\n",
              "    </tr>\n",
              "    <tr>\n",
              "      <th>2</th>\n",
              "      <td>3</td>\n",
              "      <td>23</td>\n",
              "      <td>M</td>\n",
              "      <td>writer</td>\n",
              "      <td>32067</td>\n",
              "    </tr>\n",
              "    <tr>\n",
              "      <th>3</th>\n",
              "      <td>4</td>\n",
              "      <td>24</td>\n",
              "      <td>M</td>\n",
              "      <td>technician</td>\n",
              "      <td>43537</td>\n",
              "    </tr>\n",
              "    <tr>\n",
              "      <th>4</th>\n",
              "      <td>5</td>\n",
              "      <td>33</td>\n",
              "      <td>F</td>\n",
              "      <td>other</td>\n",
              "      <td>15213</td>\n",
              "    </tr>\n",
              "    <tr>\n",
              "      <th>5</th>\n",
              "      <td>6</td>\n",
              "      <td>42</td>\n",
              "      <td>M</td>\n",
              "      <td>executive</td>\n",
              "      <td>98101</td>\n",
              "    </tr>\n",
              "    <tr>\n",
              "      <th>6</th>\n",
              "      <td>7</td>\n",
              "      <td>57</td>\n",
              "      <td>M</td>\n",
              "      <td>administrator</td>\n",
              "      <td>91344</td>\n",
              "    </tr>\n",
              "    <tr>\n",
              "      <th>7</th>\n",
              "      <td>8</td>\n",
              "      <td>36</td>\n",
              "      <td>M</td>\n",
              "      <td>administrator</td>\n",
              "      <td>05201</td>\n",
              "    </tr>\n",
              "    <tr>\n",
              "      <th>8</th>\n",
              "      <td>9</td>\n",
              "      <td>29</td>\n",
              "      <td>M</td>\n",
              "      <td>student</td>\n",
              "      <td>01002</td>\n",
              "    </tr>\n",
              "    <tr>\n",
              "      <th>9</th>\n",
              "      <td>10</td>\n",
              "      <td>53</td>\n",
              "      <td>M</td>\n",
              "      <td>lawyer</td>\n",
              "      <td>90703</td>\n",
              "    </tr>\n",
              "    <tr>\n",
              "      <th>10</th>\n",
              "      <td>11</td>\n",
              "      <td>39</td>\n",
              "      <td>F</td>\n",
              "      <td>other</td>\n",
              "      <td>30329</td>\n",
              "    </tr>\n",
              "    <tr>\n",
              "      <th>11</th>\n",
              "      <td>12</td>\n",
              "      <td>28</td>\n",
              "      <td>F</td>\n",
              "      <td>other</td>\n",
              "      <td>06405</td>\n",
              "    </tr>\n",
              "    <tr>\n",
              "      <th>12</th>\n",
              "      <td>13</td>\n",
              "      <td>47</td>\n",
              "      <td>M</td>\n",
              "      <td>educator</td>\n",
              "      <td>29206</td>\n",
              "    </tr>\n",
              "    <tr>\n",
              "      <th>13</th>\n",
              "      <td>14</td>\n",
              "      <td>45</td>\n",
              "      <td>M</td>\n",
              "      <td>scientist</td>\n",
              "      <td>55106</td>\n",
              "    </tr>\n",
              "    <tr>\n",
              "      <th>14</th>\n",
              "      <td>15</td>\n",
              "      <td>49</td>\n",
              "      <td>F</td>\n",
              "      <td>educator</td>\n",
              "      <td>97301</td>\n",
              "    </tr>\n",
              "    <tr>\n",
              "      <th>15</th>\n",
              "      <td>16</td>\n",
              "      <td>21</td>\n",
              "      <td>M</td>\n",
              "      <td>entertainment</td>\n",
              "      <td>10309</td>\n",
              "    </tr>\n",
              "    <tr>\n",
              "      <th>16</th>\n",
              "      <td>17</td>\n",
              "      <td>30</td>\n",
              "      <td>M</td>\n",
              "      <td>programmer</td>\n",
              "      <td>06355</td>\n",
              "    </tr>\n",
              "    <tr>\n",
              "      <th>17</th>\n",
              "      <td>18</td>\n",
              "      <td>35</td>\n",
              "      <td>F</td>\n",
              "      <td>other</td>\n",
              "      <td>37212</td>\n",
              "    </tr>\n",
              "    <tr>\n",
              "      <th>18</th>\n",
              "      <td>19</td>\n",
              "      <td>40</td>\n",
              "      <td>M</td>\n",
              "      <td>librarian</td>\n",
              "      <td>02138</td>\n",
              "    </tr>\n",
              "    <tr>\n",
              "      <th>19</th>\n",
              "      <td>20</td>\n",
              "      <td>42</td>\n",
              "      <td>F</td>\n",
              "      <td>homemaker</td>\n",
              "      <td>95660</td>\n",
              "    </tr>\n",
              "  </tbody>\n",
              "</table>\n",
              "</div>"
            ],
            "text/plain": [
              "    user_id  age sex     occupation zipcode\n",
              "0         1   24   M     technician   85711\n",
              "1         2   53   F          other   94043\n",
              "2         3   23   M         writer   32067\n",
              "3         4   24   M     technician   43537\n",
              "4         5   33   F          other   15213\n",
              "5         6   42   M      executive   98101\n",
              "6         7   57   M  administrator   91344\n",
              "7         8   36   M  administrator   05201\n",
              "8         9   29   M        student   01002\n",
              "9        10   53   M         lawyer   90703\n",
              "10       11   39   F          other   30329\n",
              "11       12   28   F          other   06405\n",
              "12       13   47   M       educator   29206\n",
              "13       14   45   M      scientist   55106\n",
              "14       15   49   F       educator   97301\n",
              "15       16   21   M  entertainment   10309\n",
              "16       17   30   M     programmer   06355\n",
              "17       18   35   F          other   37212\n",
              "18       19   40   M      librarian   02138\n",
              "19       20   42   F      homemaker   95660"
            ]
          },
          "execution_count": 15,
          "metadata": {},
          "output_type": "execute_result"
        }
      ],
      "source": [
        "# Affichage de 20 exemples d'utilisateurs\n",
        "users.head(20)"
      ]
    },
    {
      "cell_type": "markdown",
      "metadata": {},
      "source": [
        "On remarque que les utilisateurs sont caractérisés par leur âge, leur sexe, leur occupation et leur code postal. Essayons de faire quelques statistiques sur ces variables."
      ]
    },
    {
      "cell_type": "code",
      "execution_count": 17,
      "metadata": {},
      "outputs": [
        {
          "name": "stdout",
          "output_type": "stream",
          "text": [
            "Les variables des utilisateurs sont : ['user_id', 'age', 'sex', 'occupation', 'zipcode']\n"
          ]
        }
      ],
      "source": [
        "# Affichage des colonnes\n",
        "print(\"Les variables des utilisateurs sont :\",list(users.columns))"
      ]
    },
    {
      "cell_type": "code",
      "execution_count": 18,
      "metadata": {},
      "outputs": [
        {
          "name": "stdout",
          "output_type": "stream",
          "text": [
            "<class 'pandas.core.frame.DataFrame'>\n",
            "RangeIndex: 943 entries, 0 to 942\n",
            "Data columns (total 5 columns):\n",
            " #   Column      Non-Null Count  Dtype \n",
            "---  ------      --------------  ----- \n",
            " 0   user_id     943 non-null    int64 \n",
            " 1   age         943 non-null    int64 \n",
            " 2   sex         943 non-null    object\n",
            " 3   occupation  943 non-null    object\n",
            " 4   zipcode     943 non-null    object\n",
            "dtypes: int64(2), object(3)\n",
            "memory usage: 37.0+ KB\n",
            "None\n"
          ]
        }
      ],
      "source": [
        "# \n",
        "print(users.info())"
      ]
    },
    {
      "cell_type": "markdown",
      "metadata": {},
      "source": [
        "On remarque qu'aucune des variables n'a de valeurs nulles. On peut dire que les données sont complètes. Hormis l'âge, toutes les autres variables caractéristiques sont qualitatives. Etablissons un profil d'utilisateur par caractérisation de ces données."
      ]
    },
    {
      "cell_type": "code",
      "execution_count": 35,
      "metadata": {},
      "outputs": [
        {
          "name": "stdout",
          "output_type": "stream",
          "text": [
            "Axes(0.125,0.11;0.775x0.77)\n"
          ]
        },
        {
          "data": {
            "image/png": "[encoded data removed]",
            "text/plain": [
              "<Figure size 640x480 with 1 Axes>"
            ]
          },
          "metadata": {},
          "output_type": "display_data"
        }
      ],
      "source": [
        "#Variables quantitatives (âge uniquement)\n",
        "print(users['age'].value_counts(bins=6,sort=True).sort_index().plot(kind='bar'))"
      ]
    },
    {
      "cell_type": "markdown",
      "metadata": {},
      "source": [
        "On peut remarquer que la plupart des utilisateurs ont entre 18 et 29 ans. Le troisième âge est moins représenté dans ce jeu."
      ]
    },
    {
      "cell_type": "code",
      "execution_count": 37,
      "metadata": {},
      "outputs": [
        {
          "name": "stdout",
          "output_type": "stream",
          "text": [
            "Axes(0.125,0.11;0.775x0.77)\n"
          ]
        },
        {
          "data": {
            "image/png": "[encoded data removed]",
            "text/plain": [
              "<Figure size 640x480 with 1 Axes>"
            ]
          },
          "metadata": {},
          "output_type": "display_data"
        }
      ],
      "source": [
        "# Variables qualitatives (sexe)\n",
        "print(users['sex'].value_counts().sort_index().plot(kind='bar'))"
      ]
    },
    {
      "cell_type": "markdown",
      "metadata": {},
      "source": [
        "On peut remarquer que les hommes sont les plus représentés dans cet échantillon de données"
      ]
    },
    {
      "cell_type": "code",
      "execution_count": 38,
      "metadata": {},
      "outputs": [
        {
          "name": "stdout",
          "output_type": "stream",
          "text": [
            "Axes(0.125,0.11;0.775x0.77)\n"
          ]
        },
        {
          "data": {
            "image/png": "[encoded data removed]",
            "text/plain": [
              "<Figure size 640x480 with 1 Axes>"
            ]
          },
          "metadata": {},
          "output_type": "display_data"
        }
      ],
      "source": [
        "#Variables qualitatives (occupation)\n",
        "print(users['occupation'].value_counts().sort_index().plot(kind='bar'))"
      ]
    },
    {
      "cell_type": "markdown",
      "metadata": {},
      "source": [
        "On peut remarquer que les étudiants sont les plus représentés dans l'échantillon de données. Les doctors et les personnes ménagères sont les catégories les plus faiblement dénombrées."
      ]
    },
    {
      "cell_type": "markdown",
      "metadata": {},
      "source": [
        "#### Analyse des données de films"
      ]
    },
    {
      "cell_type": "code",
      "execution_count": null,
      "metadata": {},
      "outputs": [],
      "source": []
    },
    {
      "cell_type": "code",
      "execution_count": null,
      "metadata": {},
      "outputs": [],
      "source": []
    },
    {
      "cell_type": "code",
      "execution_count": null,
      "metadata": {},
      "outputs": [],
      "source": []
    },
    {
      "cell_type": "markdown",
      "metadata": {},
      "source": [
        "#### Analyse des notes attribuées aux films par les utilisateurs"
      ]
    },
    {
      "cell_type": "code",
      "execution_count": null,
      "metadata": {},
      "outputs": [],
      "source": []
    },
    {
      "cell_type": "code",
      "execution_count": null,
      "metadata": {},
      "outputs": [],
      "source": []
    },
    {
      "cell_type": "code",
      "execution_count": null,
      "metadata": {},
      "outputs": [],
      "source": []
    },
    {
      "cell_type": "markdown",
      "metadata": {},
      "source": []
    },
    {
      "cell_type": "code",
      "execution_count": null,
      "metadata": {},
      "outputs": [],
      "source": [
        "ratings_full = tfds.load('movielens/100k-ratings', split=\"train\")\n",
        "\n",
        "user_ids = ratings_full.map(lambda x: x[\"user_id\"])\n",
        "unique_user_ids = np.unique(list(tfds.as_numpy(user_ids)))\n",
        "\n",
        "movie_titles = ratings_full.map(lambda x: x[\"movie_title\"])\n",
        "unique_movie_titles = np.unique(list(tfds.as_numpy(movie_titles)))"
      ]
    },
    {
      "cell_type": "markdown",
      "metadata": {
        "id": "PgKXUeSO868N"
      },
      "source": [
        "> ### TODO\n",
        ">\n",
        "> Display the ten first examples to explore the list of available informations\n",
        ">\n",
        "> Usefull: `Dataset.take(count)`, `tfds.as_numpy()`, `tfds.as_dataframe()`\n"
      ]
    },
    {
      "cell_type": "code",
      "execution_count": null,
      "metadata": {
        "id": "DWXpgQVzHpwf"
      },
      "outputs": [],
      "source": [
        "print(unique_user_ids.size)\n",
        "print(unique_movie_titles.size)\n",
        "print(ratings_full.cardinality().numpy()/(unique_user_ids.size*unique_movie_titles.size))\n",
        "\n",
        "# TODO here\n",
        "tfds.as_dataframe(ratings_full.take(10))"
      ]
    },
    {
      "cell_type": "markdown",
      "metadata": {
        "id": "dm-Ummuy93Tb"
      },
      "source": [
        "Restrict the dataset to used features."
      ]
    },
    {
      "cell_type": "code",
      "execution_count": null,
      "metadata": {
        "id": "M-mxBYjdO5m7"
      },
      "outputs": [],
      "source": [
        "# Ratings data.\n",
        "ratings = ratings_full.map(lambda x: {\n",
        "    \"movie_title\": x[\"movie_title\"],\n",
        "    \"user_id\": x[\"user_id\"],\n",
        "    \"user_rating\": x[\"user_rating\"],\n",
        "    \"timestamp\": x[\"timestamp\"],\n",
        "})\n",
        "tfds.as_dataframe(ratings.take(10))\n"
      ]
    },
    {
      "cell_type": "markdown",
      "metadata": {
        "id": "dXCQpH2LMSf0"
      },
      "source": [
        "Split the data into a training set and a testing set."
      ]
    },
    {
      "cell_type": "code",
      "execution_count": null,
      "metadata": {
        "id": "Oj5OYXLjMSqA"
      },
      "outputs": [],
      "source": [
        "tf.random.set_seed(42)\n",
        "shuffled = ratings.shuffle(100_000, seed=42, reshuffle_each_iteration=False)\n",
        "\n",
        "train = shuffled.take(80_000)\n",
        "test = shuffled.skip(80_000).take(20_000)\n",
        "\n",
        "cached_train = train.shuffle(100_000).batch(2048)\n",
        "cached_test = test.batch(4096).cache()"
      ]
    },
    {
      "cell_type": "markdown",
      "metadata": {
        "id": "Lrch6rVBOB9Q"
      },
      "source": [
        "### Define a model\n",
        "\n",
        "We can define a prediction model by inheriting from `tf.keras.Model` and implementing the `call` method.\n",
        "\n",
        "> ### TODO\n",
        ">\n",
        "> Draw the model"
      ]
    },
    {
      "cell_type": "code",
      "execution_count": null,
      "metadata": {
        "id": "XFalJDcOU4_d"
      },
      "outputs": [],
      "source": [
        "class DotRankingModel(tf.keras.Model):\n",
        "\n",
        "  def __init__(self):\n",
        "    super().__init__()\n",
        "    embedding_dimension = 32\n",
        "\n",
        "    # Compute embeddings for users.\n",
        "    self.user_embeddings = tf.keras.Sequential([\n",
        "      tf.keras.layers.StringLookup(\n",
        "        vocabulary=unique_user_ids, mask_token=None),\n",
        "      tf.keras.layers.Embedding(len(unique_user_ids) + 1, embedding_dimension)\n",
        "    ])\n",
        "\n",
        "    # Compute embeddings for movies.\n",
        "    self.movie_embeddings = tf.keras.Sequential([\n",
        "      tf.keras.layers.StringLookup(\n",
        "        vocabulary=unique_movie_titles, mask_token=None),\n",
        "      tf.keras.layers.Embedding(len(unique_movie_titles) + 1, embedding_dimension)\n",
        "    ])\n",
        "\n",
        "    # Compute predictions.\n",
        "    self.ratings = tf.keras.layers.Dot(axes=(1))\n",
        "\n",
        "  def call(self, features: Dict[str, tf.Tensor]) -> tf.Tensor:\n",
        "    user_embedding = self.user_embeddings(features[\"user_id\"])\n",
        "    movie_embedding = self.movie_embeddings(features[\"movie_title\"])\n",
        "\n",
        "    return self.ratings((user_embedding, movie_embedding))"
      ]
    },
    {
      "cell_type": "code",
      "execution_count": null,
      "metadata": {
        "id": "9Y6hsvwWc7ZR"
      },
      "outputs": [],
      "source": [
        "DotRankingModel()({\"user_id\": [\"42\",\"42\"], \"movie_title\":[\"One Flew Over the Cuckoo's Nest (1975)\", \"Strictly Ballroom (1992)\"]})"
      ]
    },
    {
      "cell_type": "markdown",
      "metadata": {
        "id": "hnm3Monk-HbG"
      },
      "source": [
        "We can define a TFRS model by inheriting from `tfrs.Model` and implementing the `compute_loss` method.\n",
        "\n",
        "> ### TODO\n",
        ">\n",
        "> Explain the role played by this model"
      ]
    },
    {
      "cell_type": "code",
      "execution_count": null,
      "metadata": {
        "id": "NXOntFjKdjaW"
      },
      "outputs": [],
      "source": [
        "class MovieLensModel(tfrs.models.Model):\n",
        "\n",
        "  def __init__(self, rating_model: tf.keras.Model):\n",
        "    super().__init__()\n",
        "    self.ranking_model = rating_model\n",
        "    self.task: tf.keras.layers.Layer = tfrs.tasks.Ranking(\n",
        "      loss = tf.keras.losses.MeanSquaredError(),\n",
        "      metrics=[tf.keras.metrics.RootMeanSquaredError()]\n",
        "    )\n",
        "\n",
        "  def call(self, features: Dict[str, tf.Tensor]) -> tf.Tensor:\n",
        "    return self.ranking_model(features)\n",
        "\n",
        "  def compute_loss(self, features: Dict[Text, tf.Tensor], training=False) -> tf.Tensor:\n",
        "    labels = features.pop(\"user_rating\")\n",
        "\n",
        "    rating_predictions = self(features)\n",
        "\n",
        "    # The task computes the loss and the metrics.\n",
        "    return self.task(labels=labels, predictions=rating_predictions)"
      ]
    },
    {
      "cell_type": "markdown",
      "metadata": {
        "id": "6Zca6clv-dWC"
      },
      "source": [
        "## Fit and test the model"
      ]
    },
    {
      "cell_type": "code",
      "execution_count": null,
      "metadata": {
        "id": "Y4jBtrYAU8LE"
      },
      "outputs": [],
      "source": [
        "# Create a retrieval model.\n",
        "model = MovieLensModel(DotRankingModel())\n",
        "model.compile(optimizer=tf.keras.optimizers.Adagrad(learning_rate=0.1))\n",
        "\n",
        "# Train and test\n",
        "dot_model_history = model.fit(\n",
        "    cached_train,\n",
        "    validation_data=cached_test,\n",
        "    validation_freq=1,\n",
        "    epochs=10,\n",
        "    verbose=1)\n",
        "\n",
        "test_accuracy = dot_model_history.history[\"val_root_mean_squared_error\"][-1]\n",
        "print(f\"RMSE: {test_accuracy:.2f}.\")"
      ]
    },
    {
      "cell_type": "code",
      "execution_count": null,
      "metadata": {
        "id": "caiEkjUGfGVd"
      },
      "outputs": [],
      "source": [
        "plt.plot(dot_model_history.history[\"val_root_mean_squared_error\"], label=\"basic\")\n",
        "plt.title(\"Accuracy vs epoch\")\n",
        "plt.xlabel(\"epoch\")\n",
        "plt.ylabel(\"RMSE\");\n",
        "plt.legend()"
      ]
    },
    {
      "cell_type": "markdown",
      "metadata": {
        "id": "Y8_8re05-taq"
      },
      "source": [
        "> ### TODO\n",
        ">\n",
        "> Comment the curve"
      ]
    },
    {
      "cell_type": "markdown",
      "metadata": {
        "id": "GFyPZmqQl4Du"
      },
      "source": [
        "# More complex link between user's and item's representations\n",
        "\n",
        "Let replace the dot product between user's and item's representations by a fully connected layer of size 64, followed by a fully connected layer with a unique output.\n",
        "\n",
        "> ### TODO\n",
        ">\n",
        "> - Define the layer and adapt the `call` method\n",
        "> - Choose carefully the activation functions of the layers\n",
        ">\n",
        "> USefull: `tf.keras.Sequential`, `tf.keras.Dense`, `tf.concat`"
      ]
    },
    {
      "cell_type": "code",
      "execution_count": null,
      "metadata": {
        "id": "65LzTZe8mYbs"
      },
      "outputs": [],
      "source": [
        "class OneLayerRankingModel(tf.keras.Model):\n",
        "\n",
        "  def __init__(self):\n",
        "    super().__init__()\n",
        "    embedding_dimension = 32\n",
        "\n",
        "    # Compute embeddings for users.\n",
        "    self.user_embeddings = tf.keras.Sequential([\n",
        "      tf.keras.layers.StringLookup(\n",
        "        vocabulary=unique_user_ids, mask_token=None),\n",
        "      tf.keras.layers.Embedding(len(unique_user_ids) + 1, embedding_dimension)\n",
        "    ])\n",
        "\n",
        "    # Compute embeddings for movies.\n",
        "    self.movie_embeddings = tf.keras.Sequential([\n",
        "      tf.keras.layers.StringLookup(\n",
        "        vocabulary=unique_movie_titles, mask_token=None),\n",
        "      tf.keras.layers.Embedding(len(unique_movie_titles) + 1, embedding_dimension)\n",
        "    ])\n",
        "\n",
        "    # Compute predictions.\n",
        "    self.ratings = tf.keras.Sequential([\n",
        "        tf.keras.layers.Dense(512,activation='relu'),\n",
        "        tf.keras.layers.Dropout(0.2),\n",
        "        tf.keras.layers.Dense(1)])\n",
        "\n",
        "  def call(self, features: Dict[str, tf.Tensor]) -> tf.Tensor:\n",
        "    user_embedding = self.user_embeddings(features[\"user_id\"])\n",
        "    movie_embedding = self.movie_embeddings(features[\"movie_title\"])\n",
        "\n",
        "    return self.ratings(tf.concat((user_embedding,movie_embedding),axis=1))"
      ]
    },
    {
      "cell_type": "code",
      "execution_count": null,
      "metadata": {
        "id": "nAx8po39mYj-"
      },
      "outputs": [],
      "source": [
        "OneLayerRankingModel()({\"user_id\": [\"42\"], \"movie_title\":[\"One Flew Over the Cuckoo's Nest (1975)\"]})"
      ]
    },
    {
      "cell_type": "code",
      "execution_count": null,
      "metadata": {
        "id": "MomtyxVvmY0k"
      },
      "outputs": [],
      "source": [
        "# Create a retrieval model.\n",
        "model = MovieLensModel(OneLayerRankingModel())\n",
        "model.compile(optimizer=tf.keras.optimizers.Adagrad(learning_rate=0.1))\n",
        "\n",
        "# Train and test\n",
        "one_layer_model_history = model.fit(\n",
        "    cached_train,\n",
        "    validation_data=cached_test,\n",
        "    validation_freq=1,\n",
        "    epochs=10,\n",
        "    verbose=1)\n",
        "\n",
        "test_accuracy = one_layer_model_history.history[\"val_root_mean_squared_error\"][-1]\n",
        "print(f\"RMSE: {test_accuracy:.2f}.\")"
      ]
    },
    {
      "cell_type": "code",
      "execution_count": null,
      "metadata": {
        "id": "KCLZjF9Nok4S"
      },
      "outputs": [],
      "source": [
        "plt.plot(dot_model_history.history[\"val_root_mean_squared_error\"], label=\"basic\")\n",
        "plt.plot(one_layer_model_history.history[\"val_root_mean_squared_error\"], label=\"one layer\")\n",
        "plt.title(\"Accuracy vs epoch\")\n",
        "plt.xlabel(\"epoch\")\n",
        "plt.ylabel(\"RMSE\");\n",
        "plt.legend()"
      ]
    },
    {
      "cell_type": "markdown",
      "metadata": {
        "id": "ooZ4g25P0YSs"
      },
      "source": [
        "# Taking advantage of context features\n",
        "\n",
        "Let use timestamps of the ratings and movie titles to enrich the input of the model.\n",
        "\n",
        "Some preliminary:"
      ]
    },
    {
      "cell_type": "code",
      "execution_count": null,
      "metadata": {
        "id": "lSeZJBJI4rUl"
      },
      "outputs": [],
      "source": [
        "timestamps = np.concatenate(list(ratings_full.map(lambda x: x[\"timestamp\"]).batch(100)))\n",
        "\n",
        "max_timestamp = timestamps.max()\n",
        "min_timestamp = timestamps.min()\n",
        "\n",
        "timestamp_buckets = np.linspace(\n",
        "    min_timestamp, max_timestamp, num=1000,\n",
        ")"
      ]
    },
    {
      "cell_type": "markdown",
      "metadata": {
        "id": "1Xe9ghj84-ri"
      },
      "source": [
        "New user model.\n",
        "\n",
        "> ### TODO\n",
        ">\n",
        "> Draw and explain the role played by the components of the model"
      ]
    },
    {
      "cell_type": "code",
      "execution_count": null,
      "metadata": {
        "id": "PLcCzx-SzSBl"
      },
      "outputs": [],
      "source": [
        "class EnrichedRankingModel(tf.keras.Model):\n",
        "\n",
        "  def __init__(self):\n",
        "    super().__init__()\n",
        "    embedding_dimension = 32\n",
        "\n",
        "    # Building blocks to compute embeddings for users.\n",
        "    self.user_embeddings = tf.keras.Sequential([\n",
        "      tf.keras.layers.StringLookup(\n",
        "        vocabulary=unique_user_ids, mask_token=None),\n",
        "      tf.keras.layers.Embedding(len(unique_user_ids) + 1, embedding_dimension)\n",
        "    ])\n",
        "\n",
        "    self.timestamp_embeddings = tf.keras.Sequential([\n",
        "        tf.keras.layers.Discretization(timestamp_buckets.tolist()),\n",
        "        tf.keras.layers.Embedding(len(timestamp_buckets) + 1, embedding_dimension),\n",
        "    ])\n",
        "\n",
        "    self.normalized_timestamp = tf.keras.layers.Normalization(\n",
        "        axis=None\n",
        "    )\n",
        "    self.normalized_timestamp.adapt(timestamps)\n",
        "\n",
        "    # Building blocks to compute embeddings for movies.\n",
        "    max_tokens = 10_000\n",
        "\n",
        "    self.movie_embeddings = tf.keras.Sequential([\n",
        "      tf.keras.layers.StringLookup(\n",
        "        vocabulary=unique_movie_titles, mask_token=None),\n",
        "      tf.keras.layers.Embedding(len(unique_movie_titles) + 1, embedding_dimension)\n",
        "    ])\n",
        "\n",
        "    self.title_vectorizer = tf.keras.layers.TextVectorization(\n",
        "      max_tokens=max_tokens)\n",
        "\n",
        "    self.title_text_embeddings = tf.keras.Sequential([\n",
        "      self.title_vectorizer,\n",
        "      tf.keras.layers.Embedding(max_tokens, embedding_dimension, mask_zero=True),\n",
        "      tf.keras.layers.GlobalAveragePooling1D(),\n",
        "    ])\n",
        "\n",
        "    self.title_vectorizer.adapt(unique_movie_titles)\n",
        "\n",
        "\n",
        "\n",
        "    # Compute predictions.\n",
        "    self.ratings = tf.keras.Sequential([\n",
        "      # Learn multiple dense layers.\n",
        "      tf.keras.layers.Dense(64, activation=\"relu\"),\n",
        "      # Make rating predictions in the final layer.\n",
        "      tf.keras.layers.Dense(1)\n",
        "    ])\n",
        "\n",
        "  def call(self, features: Dict[str, tf.Tensor]) -> tf.Tensor:\n",
        "    user_embedding = tf.concat([\n",
        "        self.user_embeddings(features[\"user_id\"]),\n",
        "        self.timestamp_embeddings(features[\"timestamp\"]),\n",
        "        tf.reshape(self.normalized_timestamp(features[\"timestamp\"]), (-1, 1)),\n",
        "    ], axis=1)\n",
        "\n",
        "    movie_embedding = tf.concat([\n",
        "        self.movie_embeddings(features[\"movie_title\"]),\n",
        "        self.title_text_embeddings(features[\"movie_title\"]),\n",
        "    ], axis=1)\n",
        "\n",
        "    return self.ratings(tf.concat([user_embedding, movie_embedding], axis=1))"
      ]
    },
    {
      "cell_type": "code",
      "execution_count": null,
      "metadata": {
        "id": "4L9AP2s-1GCj"
      },
      "outputs": [],
      "source": [
        "EnrichedRankingModel()({\"user_id\": [\"42\"], \"movie_title\":[\"One Flew Over the Cuckoo's Nest (1975)\"], \"timestamp\":[879024327]})"
      ]
    },
    {
      "cell_type": "code",
      "execution_count": null,
      "metadata": {
        "id": "NPrbGZZ22bzX"
      },
      "outputs": [],
      "source": [
        "# Create a retrieval model.\n",
        "model = MovieLensModel(EnrichedRankingModel())\n",
        "model.compile(optimizer=tf.keras.optimizers.Adagrad(learning_rate=0.1))\n",
        "\n",
        "# Train and test\n",
        "enriched_model_history = model.fit(\n",
        "    cached_train,\n",
        "    validation_data=cached_test,\n",
        "    validation_freq=1,\n",
        "    epochs=10,\n",
        "    verbose=1)\n",
        "\n",
        "test_accuracy = enriched_model_history.history[\"val_root_mean_squared_error\"][-1]\n",
        "print(f\"RMSE: {test_accuracy:.2f}.\")"
      ]
    },
    {
      "cell_type": "code",
      "execution_count": null,
      "metadata": {
        "id": "KqpESO5v2bzY"
      },
      "outputs": [],
      "source": [
        "plt.plot(dot_model_history.history[\"val_root_mean_squared_error\"], label=\"basic\")\n",
        "plt.plot(one_layer_model_history.history[\"val_root_mean_squared_error\"], label=\"one layer\")\n",
        "plt.plot(enriched_model_history.history[\"val_root_mean_squared_error\"], label=\"enriched\")\n",
        "plt.title(\"Accuracy vs epoch\")\n",
        "plt.xlabel(\"epoch\")\n",
        "plt.ylabel(\"RMSE\");\n",
        "plt.legend()"
      ]
    },
    {
      "cell_type": "markdown",
      "metadata": {
        "id": "9mdYyJSs7QPY"
      },
      "source": [
        "# More comple models\n",
        "\n",
        "\n",
        "\n",
        "> ### TODO\n",
        ">\n",
        "> Build and test more complex models:\n",
        "> - with more layers to link user's and item's representation\n",
        "> - integrating more contextual information: user's age, movie's genre, ...\n",
        "\n"
      ]
    },
    {
      "cell_type": "markdown",
      "metadata": {
        "id": "oyVMhMsnRcN0"
      },
      "source": [
        "# Copyright\n",
        "\n",
        "Several section of this notebook originate from notebooks under the following copyright:\n",
        "\n",
        "##### Copyright 2020 The TensorFlow Authors."
      ]
    },
    {
      "cell_type": "code",
      "execution_count": null,
      "metadata": {
        "id": "DfR1i3oKRcOD"
      },
      "outputs": [],
      "source": [
        "#@title Licensed under the Apache License, Version 2.0 (the \"License\");\n",
        "# you may not use this file except in compliance with the License.\n",
        "# You may obtain a copy of the License at\n",
        "#\n",
        "# https://www.apache.org/licenses/LICENSE-2.0\n",
        "#\n",
        "# Unless required by applicable law or agreed to in writing, software\n",
        "# distributed under the License is distributed on an \"AS IS\" BASIS,\n",
        "# WITHOUT WARRANTIES OR CONDITIONS OF ANY KIND, either express or implied.\n",
        "# See the License for the specific language governing permissions and\n",
        "# limitations under the License."
      ]
    }
  ],
  "metadata": {
    "accelerator": "GPU",
    "colab": {
      "gpuType": "T4",
      "private_outputs": true,
      "provenance": [],
      "toc_visible": true
    },
    "kernelspec": {
      "display_name": "Python 3",
      "name": "python3"
    },
    "language_info": {
      "codemirror_mode": {
        "name": "ipython",
        "version": 3
      },
      "file_extension": ".py",
      "mimetype": "text/x-python",
      "name": "python",
      "nbconvert_exporter": "python",
      "pygments_lexer": "ipython3",
      "version": "3.11.0"
    }
  },
  "nbformat": 4,
  "nbformat_minor": 0
}
