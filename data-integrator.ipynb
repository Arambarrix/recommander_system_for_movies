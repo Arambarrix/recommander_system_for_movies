{
 "cells": [
  {
   "cell_type": "code",
   "execution_count": 10,
   "metadata": {},
   "outputs": [
    {
     "name": "stdout",
     "output_type": "stream",
     "text": [
      "Workflow exécuté avec succès\n",
      "WARN \t ForkJoinPool.commonPool-worker-1 HadoopInitializer\t Unable to find 'hadoop.dll' at hadoop home creation.\n",
      "WARN \t ForkJoinPool.commonPool-worker-1 HadoopInitializer\t Unable to find 'msvcr100.dll' at hadoop home creation.\n",
      "\n"
     ]
    }
   ],
   "source": [
    "import subprocess\n",
    "\n",
    "# Définissez les chemins appropriés\n",
    "knime_executable = r\"C:\\Users\\William\\AppData\\Local\\Programs\\KNIME\\knime.exe\"\n",
    "workflow_dir = r\"recommender-system-workflow\\movie_recommenders\"\n",
    "\n",
    "# Construire la commande à exécuter\n",
    "cmd = [\n",
    "    knime_executable,\n",
    "    '-consoleLog',\n",
    "    '-nosplash',\n",
    "    '-application', 'org.knime.product.KNIME_BATCH_APPLICATION',\n",
    "    '-workflowDir=' + workflow_dir,\n",
    "    '-reset'\n",
    "]\n",
    "\"\"\"\n",
    "powershell_script = f'''\n",
    "Start-Process \"{knime_executable}\" -ArgumentList '-application org.knime.product.KNIME_BATCH_APPLICATION -workflowFile=\"{workflow_file}\" -reset \"' -Verb RunAs\n",
    "'''\"\"\"\n",
    "\"\"\"\n",
    "# Exécution du script PowerShell\n",
    "try:\n",
    "    result = subprocess.run([\"powershell\", \"-Command\", powershell_script], capture_output=True, text=True, check=True)\n",
    "    print(\"Workflow exécuté avec succès avec des privilèges administratifs\")\n",
    "    print(result.stdout)\n",
    "except subprocess.CalledProcessError as e:\n",
    "    print(\"Erreur lors de l'exécution du workflow avec des privilèges administratifs\")\n",
    "    print(e.stdout)\n",
    "    print(e.stderr)\"\"\"\n",
    "\n",
    "# Exécution de la commande\n",
    "try:\n",
    "    result = subprocess.run(cmd, capture_output=True, text=True, check=True)\n",
    "    print(\"Workflow exécuté avec succès\")\n",
    "    print(result.stdout)\n",
    "except subprocess.CalledProcessError as e:\n",
    "    print(\"Erreur lors de l'exécution du workflow\")\n",
    "    print(e.stdout)\n",
    "    print(e.stderr)"
   ]
  }
 ],
 "metadata": {
  "kernelspec": {
   "display_name": "Python 3",
   "language": "python",
   "name": "python3"
  },
  "language_info": {
   "codemirror_mode": {
    "name": "ipython",
    "version": 3
   },
   "file_extension": ".py",
   "mimetype": "text/x-python",
   "name": "python",
   "nbconvert_exporter": "python",
   "pygments_lexer": "ipython3",
   "version": "3.11.0"
  }
 },
 "nbformat": 4,
 "nbformat_minor": 2
}
